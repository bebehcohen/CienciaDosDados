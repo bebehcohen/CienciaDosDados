{
 "cells": [
  {
   "cell_type": "code",
   "execution_count": 2,
   "metadata": {
    "collapsed": true
   },
   "outputs": [],
   "source": [
    "import numpy as np\n",
    "import matplotlib as plt\n",
    "import pandas as pd\n",
    "from scipy import stats\n",
    "import math\n",
    "\n",
    "%matplotlib inline"
   ]
  },
  {
   "cell_type": "code",
   "execution_count": 11,
   "metadata": {
    "collapsed": true
   },
   "outputs": [],
   "source": [
    "x = [129.26, 204.49, 116.89, 106.4 , 95.3 , 123.35, 92.3 , 300.02, 264.34, 168.27, 80.02,\n",
    "117.96, 117.73, 370.47, 462.59, 92.58, 258.52, 82.59]\n",
    "a = pd.Series(x)\n",
    "n = len(a)"
   ]
  },
  {
   "cell_type": "code",
   "execution_count": 12,
   "metadata": {},
   "outputs": [
    {
     "name": "stdout",
     "output_type": "stream",
     "text": [
      "Média:  176.83777777777777\n",
      "Desvio padrão amostral:  110.95287190067022\n"
     ]
    }
   ],
   "source": [
    "xbarra = np.mean(a)\n",
    "dp = np.std(a,ddof=1)\n",
    "\n",
    "print(\"Média: \", xbarra)\n",
    "print(\"Desvio padrão amostral: \", dp)"
   ]
  },
  {
   "cell_type": "code",
   "execution_count": 14,
   "metadata": {},
   "outputs": [
    {
     "data": {
      "image/png": "[encoded data removed]",
      "text/plain": [
       "<matplotlib.figure.Figure at 0x11ca9bb00>"
      ]
     },
     "metadata": {},
     "output_type": "display_data"
    }
   ],
   "source": [
    "mediax=np.mean(x)\n",
    "desvio=np.std(x, ddof=1)\n",
    "pd.Series(x).hist(normed=True);"
   ]
  },
  {
   "cell_type": "code",
   "execution_count": 29,
   "metadata": {},
   "outputs": [
    {
     "name": "stdout",
     "output_type": "stream",
     "text": [
      "Média\n",
      "Lim Inferior - 136.154\n",
      "Lim Superior - 231.778847222\n"
     ]
    }
   ],
   "source": [
    "#a\n",
    "amostra=1000\n",
    "listamedia=[]\n",
    "for i in range(amostra):\n",
    "    amostra = np.random.choice(x, size=n)\n",
    "    xamostra = np.mean(amostra)\n",
    "    listamedia.append(xamostra)\n",
    "LI = np.percentile(listamedia, 2.5)\n",
    "LS = np.percentile(listamedia, 97.5)\n",
    "print('Média')\n",
    "print('Lim Inferior -', LI)\n",
    "print('Lim Superior -', LS)"
   ]
  },
  {
   "cell_type": "code",
   "execution_count": 30,
   "metadata": {},
   "outputs": [
    {
     "name": "stdout",
     "output_type": "stream",
     "text": [
      "Desvios\n",
      "Lim Inferior - 133.095972222\n",
      "Lim Superior - 230.239305556\n"
     ]
    }
   ],
   "source": [
    "#b\n",
    "\n",
    "amostra=1000\n",
    "listadesvio=[]\n",
    "for i in range(amostra):\n",
    "    amostra = np.random.choice(x, size=n, replace=True)\n",
    "    add = np.mean(amostra)\n",
    "    listadesvio.append(add)\n",
    "\n",
    "LI = np.percentile(listadesvio, 2.5)\n",
    "LS = np.percentile(listadesvio, 97.5)\n",
    "print('Desvios')\n",
    "print('Lim Inferior -', LI)\n",
    "print('Lim Superior -', LS)"
   ]
  },
  {
   "cell_type": "code",
   "execution_count": 32,
   "metadata": {},
   "outputs": [
    {
     "data": {
      "text/plain": [
       "<matplotlib.axes._subplots.AxesSubplot at 0x11d08fe80>"
      ]
     },
     "execution_count": 32,
     "metadata": {},
     "output_type": "execute_result"
    },
    {
     "data": {
      "image/png": "[encoded data removed]",
      "text/plain": [
       "<matplotlib.figure.Figure at 0x11d000198>"
      ]
     },
     "metadata": {},
     "output_type": "display_data"
    }
   ],
   "source": [
    "#C\n",
    "pd.Series(listamedia).plot.hist(normed=True)"
   ]
  },
  {
   "cell_type": "markdown",
   "metadata": {},
   "source": [
    "#### c) Não há indícios pois o valor dos parâmetros, 150, está dentro do esperado, dentro dos limites."
   ]
  },
  {
   "cell_type": "code",
   "execution_count": null,
   "metadata": {
    "collapsed": true
   },
   "outputs": [],
   "source": []
  }
 ],
 "metadata": {
  "kernelspec": {
   "display_name": "Python 3",
   "language": "python",
   "name": "python3"
  },
  "language_info": {
   "codemirror_mode": {
    "name": "ipython",
    "version": 3
   },
   "file_extension": ".py",
   "mimetype": "text/x-python",
   "name": "python",
   "nbconvert_exporter": "python",
   "pygments_lexer": "ipython3",
   "version": "3.6.0"
  }
 },
 "nbformat": 4,
 "nbformat_minor": 2
}
